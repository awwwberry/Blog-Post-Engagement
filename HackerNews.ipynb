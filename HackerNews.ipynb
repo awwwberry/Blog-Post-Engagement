{
 "cells": [
  {
   "cell_type": "markdown",
   "metadata": {
    "collapsed": true
   },
   "source": [
    "# Exploring Haker News Posts"
   ]
  },
  {
   "cell_type": "markdown",
   "metadata": {},
   "source": [
    "Hacker News website where user-submitted stories are voted and commented upon, similar to reddit. Hacker News is extremely popular in technology and startup circles. \n",
    "\n",
    "The goal of this project is to explore posts submitted to Hacker News to see which features make the article more popular. \n",
    "* Do Ask HN or Show HN receive more comments on average?\n",
    "* Do posts created at a certain time receive more comments on average?"
   ]
  },
  {
   "cell_type": "markdown",
   "metadata": {},
   "source": [
    "# Open and Explore Data"
   ]
  },
  {
   "cell_type": "markdown",
   "metadata": {},
   "source": [
    "[This data set](https://www.kaggle.com/hacker-news/hacker-news-posts) contains approximately 20,000 data points of stories submitted to Hacker News. There are 7 columns including num_points - the number of points the post acquired, calculated as the total number of upvotes minus the total number of downvotes. \n",
    "\n",
    "* Ask HN posts ask the Hacker News community a specific question. \n",
    "\n",
    "* Show HN posts show the Hacker News community a project, product, or something interesting. \n",
    "\n",
    "\n",
    "We want to see the community reaction to these type of posts and if they engage more with the comments. \n",
    "\n",
    "We will also analyze the time the user posts to see if a certain time receives more comments on average. "
   ]
  },
  {
   "cell_type": "code",
   "execution_count": 1,
   "metadata": {},
   "outputs": [],
   "source": [
    "from csv import reader"
   ]
  },
  {
   "cell_type": "code",
   "execution_count": 2,
   "metadata": {},
   "outputs": [],
   "source": [
    "opened= open('hacker_news.csv')\n",
    "read= reader(opened)\n",
    "hn= list(read)\n",
    "header= hn[0]\n",
    "hn= hn[1:]"
   ]
  },
  {
   "cell_type": "code",
   "execution_count": 3,
   "metadata": {
    "scrolled": false
   },
   "outputs": [
    {
     "name": "stdout",
     "output_type": "stream",
     "text": [
      "['id', 'title', 'url', 'num_points', 'num_comments', 'author', 'created_at']\n",
      "[['12224879', 'Interactive Dynamic Video', 'http://www.interactivedynamicvideo.com/', '386', '52', 'ne0phyte', '8/4/2016 11:52'], ['10975351', 'How to Use Open Source and Shut the Fuck Up at the Same Time', 'http://hueniverse.com/2016/01/26/how-to-use-open-source-and-shut-the-fuck-up-at-the-same-time/', '39', '10', 'josep2', '1/26/2016 19:30'], ['11964716', \"Florida DJs May Face Felony for April Fools' Water Joke\", 'http://www.thewire.com/entertainment/2013/04/florida-djs-april-fools-water-joke/63798/', '2', '1', 'vezycash', '6/23/2016 22:20'], ['11919867', 'Technology ventures: From Idea to Enterprise', 'https://www.amazon.com/Technology-Ventures-Enterprise-Thomas-Byers/dp/0073523429', '3', '1', 'hswarna', '6/17/2016 0:01'], ['10301696', 'Note by Note: The Making of Steinway L1037 (2007)', 'http://www.nytimes.com/2007/11/07/movies/07stein.html?_r=0', '8', '2', 'walterbell', '9/30/2015 4:12']]\n"
     ]
    }
   ],
   "source": [
    "print(header)\n",
    "print(hn[:5])"
   ]
  },
  {
   "cell_type": "markdown",
   "metadata": {},
   "source": [
    "Create separate lists for Ask HN posts and Show HN posts"
   ]
  },
  {
   "cell_type": "code",
   "execution_count": 4,
   "metadata": {},
   "outputs": [
    {
     "name": "stdout",
     "output_type": "stream",
     "text": [
      "Number of Ask HN posts: 1744\n",
      "Number of Show HN posts: 1162\n",
      "Number of other posts: 17194\n"
     ]
    }
   ],
   "source": [
    "ask_posts = []\n",
    "show_posts = []\n",
    "other_posts = []\n",
    "\n",
    "for row in hn:\n",
    "    title= row[1]\n",
    "    if title.lower().startswith('ask hn'):\n",
    "        ask_posts.append(row)\n",
    "    elif title.lower().startswith('show hn'):\n",
    "        show_posts.append(row)\n",
    "    else:\n",
    "        other_posts.append(row)\n",
    "        \n",
    "print(\"Number of Ask HN posts:\", len(ask_posts))\n",
    "print(\"Number of Show HN posts:\",len(show_posts))\n",
    "print(\"Number of other posts:\", len(other_posts))"
   ]
  },
  {
   "cell_type": "markdown",
   "metadata": {},
   "source": [
    "Explore the engagement on Ask Posts versus Show Posts by calculating the average number of comments "
   ]
  },
  {
   "cell_type": "code",
   "execution_count": 5,
   "metadata": {},
   "outputs": [
    {
     "name": "stdout",
     "output_type": "stream",
     "text": [
      "Total number of comments in Ask HN: 24483\n"
     ]
    }
   ],
   "source": [
    "total_ask_comments = 0 \n",
    "\n",
    "for row in ask_posts:\n",
    "    num_comments= int(row[4])\n",
    "    total_ask_comments += num_comments \n",
    "\n",
    "print(\"Total number of comments in Ask HN:\", total_ask_comments)"
   ]
  },
  {
   "cell_type": "code",
   "execution_count": 6,
   "metadata": {},
   "outputs": [
    {
     "name": "stdout",
     "output_type": "stream",
     "text": [
      "Average comments per post in Ask HN: 14.038417431192661\n"
     ]
    }
   ],
   "source": [
    "avg_ask_comments= total_ask_comments / len(ask_posts)\n",
    "print(\"Average comments per post in Ask HN:\", avg_ask_comments)"
   ]
  },
  {
   "cell_type": "code",
   "execution_count": 7,
   "metadata": {},
   "outputs": [
    {
     "name": "stdout",
     "output_type": "stream",
     "text": [
      "Total number of comments in Show HN: 11988\n"
     ]
    }
   ],
   "source": [
    "total_show_comments = 0 \n",
    "\n",
    "for row in show_posts: \n",
    "    num_comments = int(row[4])\n",
    "    total_show_comments += num_comments \n",
    "    \n",
    "print(\"Total number of comments in Show HN:\", total_show_comments)"
   ]
  },
  {
   "cell_type": "code",
   "execution_count": 8,
   "metadata": {},
   "outputs": [
    {
     "name": "stdout",
     "output_type": "stream",
     "text": [
      "Average comments per post in Show HN: 10.31669535283993\n"
     ]
    }
   ],
   "source": [
    "avg_show_comments= total_show_comments / len(show_posts)\n",
    "print(\"Average comments per post in Show HN:\", avg_show_comments)"
   ]
  },
  {
   "cell_type": "markdown",
   "metadata": {},
   "source": [
    "On average, Ask HN posts receive more comments than Show HN posts. \n",
    "Ask HN has 1744 posts with 14.0 comments on average for each post. \n",
    "Show HN has 1162 posts with 10.3 comments on average for each post. "
   ]
  },
  {
   "cell_type": "markdown",
   "metadata": {},
   "source": [
    "Ask HN are more popular so we will focus our analysis on just these posts. We will determine if ask posts created at a certain time are more likely to attract comments. We'll use the following steps to perform this analysis: \n",
    "\n",
    "* Calculate the amount of ask posts created in each hour of the day, along with the number of comments received\n",
    "* Calculate the average number of comments ask posts receive by hour created "
   ]
  },
  {
   "cell_type": "code",
   "execution_count": 9,
   "metadata": {},
   "outputs": [],
   "source": [
    "import datetime as dt"
   ]
  },
  {
   "cell_type": "code",
   "execution_count": 10,
   "metadata": {},
   "outputs": [
    {
     "name": "stdout",
     "output_type": "stream",
     "text": [
      "[['8/16/2016 9:55', 6], ['11/22/2015 13:43', 29], ['5/2/2016 10:14', 1], ['8/2/2016 14:20', 3], ['10/15/2015 16:38', 17]]\n"
     ]
    }
   ],
   "source": [
    "result_list = []\n",
    "\n",
    "for row in ask_posts:\n",
    "    created_at= row[6]\n",
    "    num_comments = int(row[4])\n",
    "    result_list.append([created_at,num_comments])\n",
    "    \n",
    "print(result_list[:5])"
   ]
  },
  {
   "cell_type": "code",
   "execution_count": 11,
   "metadata": {},
   "outputs": [],
   "source": [
    "counts_by_hour = {}\n",
    "comments_by_hour = {}\n",
    "\n",
    "for row in result_list:\n",
    "    created_at= row[0]\n",
    "    created_at= dt.datetime.strptime(created_at,'%m/%d/%Y %H:%M' )\n",
    "    created_at= created_at.strftime('%H')\n",
    "    if created_at not in counts_by_hour:\n",
    "        counts_by_hour[created_at]= 1\n",
    "        comments_by_hour[created_at]= row[1]\n",
    "    if created_at in counts_by_hour:\n",
    "        counts_by_hour[created_at] += 1\n",
    "        comments_by_hour[created_at] += row[1]    "
   ]
  },
  {
   "cell_type": "code",
   "execution_count": 12,
   "metadata": {},
   "outputs": [
    {
     "name": "stdout",
     "output_type": "stream",
     "text": [
      "{'09': 46, '13': 86, '10': 60, '14': 108, '16': 109, '23': 69, '12': 74, '17': 101, '15': 117, '21': 110, '20': 81, '02': 59, '18': 110, '03': 55, '05': 47, '19': 111, '01': 61, '22': 72, '08': 49, '04': 48, '00': 56, '06': 45, '07': 35, '11': 59}\n",
      "\n",
      "\n",
      "{'09': 257, '13': 1282, '10': 794, '14': 1419, '16': 1831, '23': 544, '12': 691, '17': 1147, '15': 4478, '21': 1749, '20': 1724, '02': 1384, '18': 1441, '03': 422, '05': 493, '19': 1191, '01': 716, '22': 481, '08': 497, '04': 340, '00': 457, '06': 398, '07': 269, '11': 643}\n"
     ]
    }
   ],
   "source": [
    "print(counts_by_hour)\n",
    "print(\"\\n\")\n",
    "print(comments_by_hour)"
   ]
  },
  {
   "cell_type": "code",
   "execution_count": 13,
   "metadata": {},
   "outputs": [],
   "source": [
    "avg_by_hour = []\n",
    "\n",
    "for hour in comments_by_hour:\n",
    "    hour_avg = comments_by_hour[hour] / counts_by_hour[hour]\n",
    "    avg_by_hour.append([hour, hour_avg])"
   ]
  },
  {
   "cell_type": "markdown",
   "metadata": {},
   "source": [
    "Let's format the list avg_by_hour in an easier to read format and more conducive to our analysis. \n",
    "* Swap the averages and hour data \n",
    "* Sort the averages in decending order\n",
    "* Print the top 5 hours for ask post comments "
   ]
  },
  {
   "cell_type": "code",
   "execution_count": 14,
   "metadata": {},
   "outputs": [],
   "source": [
    "swap_avg_by_hour = []\n",
    "\n",
    "for row in avg_by_hour:\n",
    "    swap_avg_by_hour.append([row[1], row[0]])"
   ]
  },
  {
   "cell_type": "code",
   "execution_count": 15,
   "metadata": {},
   "outputs": [],
   "source": [
    "sorted_swap = sorted(swap_avg_by_hour, reverse=True)"
   ]
  },
  {
   "cell_type": "code",
   "execution_count": 16,
   "metadata": {},
   "outputs": [
    {
     "name": "stdout",
     "output_type": "stream",
     "text": [
      "Top 5 Hours for Ask Posts Comments\n",
      "15:00 : 38.27 average comments per post\n",
      "02:00 : 23.46 average comments per post\n",
      "20:00 : 21.28 average comments per post\n",
      "16:00 : 16.80 average comments per post\n",
      "21:00 : 15.90 average comments per post\n"
     ]
    }
   ],
   "source": [
    "print(\"Top 5 Hours for Ask Posts Comments\")\n",
    "\n",
    "for row in sorted_swap[:5]:\n",
    "    hour= dt.datetime.strptime(row[1], '%H')\n",
    "    hour= hour.strftime('%H:00') \n",
    "    string= '{h} : {avg:.2f} average comments per post'.format(h= hour, avg= row[0])\n",
    "    print(string)"
   ]
  },
  {
   "cell_type": "markdown",
   "metadata": {},
   "source": [
    "The time zone for these results are Eastern Standard Time. \n",
    "I will convert the times to my currect time zone in LA of Pacific Standard Time. "
   ]
  },
  {
   "cell_type": "code",
   "execution_count": 17,
   "metadata": {},
   "outputs": [
    {
     "name": "stdout",
     "output_type": "stream",
     "text": [
      "12:00 : 38.27 average comments per post\n",
      "23:00 : 23.46 average comments per post\n",
      "17:00 : 21.28 average comments per post\n",
      "13:00 : 16.80 average comments per post\n",
      "18:00 : 15.90 average comments per post\n"
     ]
    }
   ],
   "source": [
    "for row in sorted_swap[:5]:\n",
    "    hour= dt.datetime.strptime(row[1], '%H')\n",
    "    LA_time= hour + dt.timedelta(hours= -3)\n",
    "    LA_time= LA_time.strftime('%H:00')\n",
    "    string= '{h} : {avg:.2f} average comments per post'.format(h = LA_time, avg= row[0])\n",
    "    print(string)"
   ]
  },
  {
   "cell_type": "markdown",
   "metadata": {},
   "source": [
    "# Conclusion "
   ]
  },
  {
   "cell_type": "markdown",
   "metadata": {},
   "source": [
    "In conclusion, the best time to post an Ask HN article is 12:00 PST to receive the most comments and engagement. \n",
    "\n",
    "Posts made at 23:00 PST and 17:00 PST are the next best hours to get comments. "
   ]
  }
 ],
 "metadata": {
  "kernelspec": {
   "display_name": "Python 3",
   "language": "python",
   "name": "python3"
  },
  "language_info": {
   "codemirror_mode": {
    "name": "ipython",
    "version": 3
   },
   "file_extension": ".py",
   "mimetype": "text/x-python",
   "name": "python",
   "nbconvert_exporter": "python",
   "pygments_lexer": "ipython3",
   "version": "3.8.2"
  }
 },
 "nbformat": 4,
 "nbformat_minor": 2
}
